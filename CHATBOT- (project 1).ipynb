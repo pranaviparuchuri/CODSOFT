{
 "cells": [
  {
   "cell_type": "markdown",
   "id": "7cf1fe3f",
   "metadata": {},
   "source": [
    "# ChatBot"
   ]
  },
  {
   "cell_type": "code",
   "execution_count": 1,
   "id": "964db144",
   "metadata": {},
   "outputs": [],
   "source": [
    "import re"
   ]
  },
  {
   "cell_type": "code",
   "execution_count": 2,
   "id": "e6c3373e",
   "metadata": {},
   "outputs": [],
   "source": [
    "def chatbot(input):\n",
    "    data = input.lower()\n",
    "    if re.search(r'(.*)hi|hello(.*)',data):\n",
    "        return \"Hello! It's great pleasure to talk with you\"\n",
    "    elif re.search(r'(.*)help(.*)',data):\n",
    "        return \"How could I help you\"\n",
    "    elif re.search(r'(.*)name(.*)',data):\n",
    "        return \"I am a chatbot I have been created to communicate with you\"\n",
    "    elif re.search(r'(.*) means codsoft(.*)',data):\n",
    "        return \"CodSoft are IT services and IT consultancy that specializes in creating innovative solutions for businesses.\"\n",
    "    elif re.search(r'codsoft goal(.*)',data):\n",
    "        return \" Our aim is to help students lacking basic skills by offering hands-on learning through live projects and real-world examples.\"\n",
    "    elif re.search(r'codsoft establish(.*)',data):\n",
    "        return \"27 september, 1989\"\n",
    "    elif re.search(r'(.*)codsoft intern(.*)',data):\n",
    "        return '''Courses such as: \n",
    "                  Web Development Intern\n",
    "                  App Development Intern\n",
    "                  Java Intern\n",
    "                  Python Intern\n",
    "                  C++ Intern\n",
    "                  Data Science Intern\n",
    "                  UI/UX Intern\n",
    "                  AI Intern\n",
    "                  ML Intern\n",
    "                  register link:  https://lnkd.in/gh4RUt7j'''\n",
    "    elif re.search(r'(.*)codsoft founder(.*)',data):\n",
    "        return \"Stanly Walca\"\n",
    "    else:\n",
    "        return \"I'm sorry, could you please repeat?\""
   ]
  },
  {
   "cell_type": "code",
   "execution_count": 3,
   "id": "2e704711",
   "metadata": {},
   "outputs": [
    {
     "name": "stdout",
     "output_type": "stream",
     "text": [
      "You: hi\n",
      "Chatbot:  Hello! It's great pleasure to talk with you\n",
      "You: what is your name\n",
      "Chatbot:  I am a chatbot I have been created to communicate with you\n",
      "You: i need help\n",
      "Chatbot:  How could I help you\n",
      "You: what means codsoft\n",
      "Chatbot:  CodSoft are IT services and IT consultancy that specializes in creating innovative solutions for businesses.\n",
      "You: codsoft founder\n",
      "Chatbot:  Stanly Walca\n",
      "You: codsoft established\n",
      "Chatbot:  27 september, 1989\n",
      "You: codsoft goal\n",
      "Chatbot:   Our aim is to help students lacking basic skills by offering hands-on learning through live projects and real-world examples.\n",
      "You: codsoft intern courses\n",
      "Chatbot:  Courses such as: \n",
      "                  Web Development Intern\n",
      "                  App Development Intern\n",
      "                  Java Intern\n",
      "                  Python Intern\n",
      "                  C++ Intern\n",
      "                  Data Science Intern\n",
      "                  UI/UX Intern\n",
      "                  AI Intern\n",
      "                  ML Intern\n",
      "                  register link:  https://lnkd.in/gh4RUt7j\n",
      "You: thank you\n",
      "Chatbot:  I'm sorry, could you please repeat?\n",
      "You: bye\n",
      "Chatbot : Thank you for communicating! Have a great day!\n"
     ]
    }
   ],
   "source": [
    "while True:\n",
    "    user = input(\"You: \")\n",
    "    if user.lower() == 'bye':\n",
    "        print('Chatbot : Thank you for communicating! Have a great day!')\n",
    "        break\n",
    "    res = chatbot(user)\n",
    "    print('Chatbot: ', res)"
   ]
  }
 ],
 "metadata": {
  "kernelspec": {
   "display_name": "Python 3 (ipykernel)",
   "language": "python",
   "name": "python3"
  },
  "language_info": {
   "codemirror_mode": {
    "name": "ipython",
    "version": 3
   },
   "file_extension": ".py",
   "mimetype": "text/x-python",
   "name": "python",
   "nbconvert_exporter": "python",
   "pygments_lexer": "ipython3",
   "version": "3.11.5"
  }
 },
 "nbformat": 4,
 "nbformat_minor": 5
}
